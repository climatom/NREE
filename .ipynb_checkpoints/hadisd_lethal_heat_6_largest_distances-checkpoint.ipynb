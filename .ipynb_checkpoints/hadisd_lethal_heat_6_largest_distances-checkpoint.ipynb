{
 "cells": [
  {
   "cell_type": "code",
   "execution_count": null,
   "id": "c83d395d-b28d-4732-a36d-0ca5e07f7d29",
   "metadata": {},
   "outputs": [],
   "source": [
    "import xarray as xr\n",
    "import numpy as np\n",
    "import metpy.calc as mpcalc\n",
    "import matplotlib.pyplot as plt\n",
    "from lethal_heat import Vecellio22\n",
    "import glob\n",
    "from datetime import datetime\n",
    "from dask.distributed import Client\n",
    "import dask.delayed as delayed                                                                                                                                                                                                                                                                                                                                                                                                                                                                                                                                                                                                                                                                                                                                                                                                                                                                                                                                                                                                                                                                                                                                                                                                                                                                                                                                                                                                                                                                                                                                                                                                                                                                                                                                                                                                                                                                                                                                                                                                                                                                                                                                                                                                                                                                                                                                                                                                                                                                                                                                                                                                                                                                                                                                                                                                                                                                                                                                                                                                            \n",
    "import dask\n",
    "import warnings\n",
    "import os.path \n",
    "import os\n",
    "import pandas as pd"
   ]
  },
  {
   "cell_type": "code",
   "execution_count": null,
   "id": "f1df2e99-c177-45b3-919f-c49b19d90fd9",
   "metadata": {
    "tags": []
   },
   "outputs": [],
   "source": [
    "# Open Datasets\n",
    "fp_hadisd = glob(\"./hadisd/*.nc\")\n",
    "dp_out = \"./hadisd_distances_1D/\"\n",
    "final_output = \"./hadisd_d2_distances_daily_max_wsid.nc\"\n",
    "n_loc = len(fp_hadisd)"
   ]
  },
  {
   "cell_type": "code",
   "execution_count": null,
   "id": "f8971de7-4a26-43ae-9a8d-945aa7068a13",
   "metadata": {},
   "outputs": [],
   "source": [
    "client = Client(n_workers = 64, threads_per_worker = 1)"
   ]
  },
  {
   "cell_type": "code",
   "execution_count": null,
   "id": "74be2dda-67de-48d3-98a0-37599010efd6",
   "metadata": {},
   "outputs": [],
   "source": [
    "def delayed_func(fp, fp_out):\n",
    "    \n",
    "    year_list = np.arange(1900, 2021)\n",
    "    SID = os.path.basename(fp)[:-3]\n",
    "    \n",
    "    # Open dataset for this file\n",
    "    ds = xr.open_dataset(fp)[['temperatures', 'dewpoints','longitude','latitude']].load() \n",
    "    \n",
    "    #Define default output variables\n",
    "    lon = ds['longitude'].values[0]\n",
    "    lat = ds['latitude'].values[0] \n",
    "    ds_out = xr.Dataset( )\n",
    "    ds_out['lon'] = lon\n",
    "    ds_out['lat'] = lat\n",
    "\n",
    "    # Extract variables\n",
    "    temperature = ds['temperatures']\n",
    "    dewpoint = ds['dewpoints']\n",
    "\n",
    "    # Filter NaNs\n",
    "    temperature[temperature < -1e25] = np.nan\n",
    "    dewpoint[dewpoint < -1e25] = np.nan\n",
    "\n",
    "    # Make derived variables\n",
    "    v22 = Vecellio22() \n",
    "    rel_hum = mpcalc.relative_humidity_from_dewpoint(temperature, dewpoint) * 100\n",
    "    lethal_dist = v22.distance_from_function(temperature, rel_hum)\n",
    "    \n",
    "    # Calculate daily maxima\n",
    "    lethal_dist_1D = lethal_dist.resample(time='1D').max()\n",
    "    \n",
    "    #For each year, find the 6 largest daily values\n",
    "    n_years = len(year_list)\n",
    "    top6 = np.zeros((n_years, 6)) * np.nan\n",
    "    \n",
    "    for ii, year in enumerate( year_list ):\n",
    "        print(ii, end='\\r')\n",
    "        date0 = datetime(year,1,1)\n",
    "        date1 = datetime(year+1,1,1)\n",
    "        lethal_dist_ii = lethal_dist_1D.sel(time=slice( date0, date1 ))\n",
    "        nonans = ~np.isnan( lethal_dist_ii )\n",
    "       \n",
    "        #Check we have more than half the year\n",
    "        if np.sum( nonans ) > 180:\n",
    "            top6[ii,:] = np.sort( lethal_dist_ii[nonans] )[::-1][:6]\n",
    "            \n",
    "    ds_out['lh_distance_top6_daily_maxima'] = (['year','order'], top6 )\n",
    "    ds_out['year'] = year_list\n",
    "    \n",
    "    #ds_out = lethal_dist_1D.to_dataset(name='lethal_distance_max')\n",
    "    ds_out['SID'] = SID\n",
    "    ds_out.to_netcdf(fp_out)\n",
    "    #return lethal_dist_1D"
   ]
  },
  {
   "cell_type": "code",
   "execution_count": null,
   "id": "4a8b5b32-7bf1-41b0-9246-5ba31a88ffa8",
   "metadata": {},
   "outputs": [],
   "source": [
    "# Run one analysis per process for each HADISD file and compute\n",
    "results = []\n",
    "for ii, fp_ii in enumerate(fp_hadisd):\n",
    "    fp_out_ii = f'lethal_distances_1D_{str(ii).zfill(4)}.nc'\n",
    "    fp_out_ii = os.path.join(dp_out, fp_out_ii)\n",
    "    results.append( delayed(delayed_func)(fp_ii, fp_out_ii) )\n",
    "\n",
    "results_out = dask.compute(results)"
   ]
  },
  {
   "cell_type": "code",
   "execution_count": null,
   "id": "4f0fe5d6-1ee5-4bcb-beed-ad4dbbfb62ec",
   "metadata": {},
   "outputs": [],
   "source": [
    "# Concatenate results\n",
    "output_list = glob.glob(dp_out + '/*')\n",
    "ds_list = [xr.open_dataset(fp, chunks={}) for fp in output_list]\n",
    "ds2 = xr.concat(ds_list, dim='station')\n",
    "ds2.to_netcdf(final_output)"
   ]
  }
 ],
 "metadata": {
  "kernelspec": {
   "display_name": "Python 3 (ipykernel)",
   "language": "python",
   "name": "python3"
  },
  "language_info": {
   "codemirror_mode": {
    "name": "ipython",
    "version": 3
   },
   "file_extension": ".py",
   "mimetype": "text/x-python",
   "name": "python",
   "nbconvert_exporter": "python",
   "pygments_lexer": "ipython3",
   "version": "3.11.3"
  }
 },
 "nbformat": 4,
 "nbformat_minor": 5
}
